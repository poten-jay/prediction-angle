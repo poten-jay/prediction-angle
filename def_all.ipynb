{
 "cells": [
  {
   "cell_type": "code",
   "execution_count": 1,
   "metadata": {},
   "outputs": [
    {
     "name": "stdout",
     "output_type": "stream",
     "text": [
      "doc_img 폴더 이미지 개수 : 9558\n",
      "doc_split : split 이미지 수 : 478\n"
     ]
    }
   ],
   "source": [
    "# 이미지 스플릿 하기\n",
    "# https://inhovation97.tistory.com/36\n",
    "\n",
    "import os\n",
    "import glob\n",
    "import math\n",
    "import shutil\n",
    "import random\n",
    "\n",
    "# 원본 이미지 폴더속 이미지 개수\n",
    "doc_img = sorted(glob.glob('D:/coding/data_set/lomin/train_copy/train/'+'/*'))\n",
    "print('doc_img 폴더 이미지 개수 : {}'.format(len(doc_img)))\n",
    "\n",
    "# 나눌 이미지 수\n",
    "doc_split = round(len(doc_img)*0.05)\n",
    "print('doc_split : split 이미지 수 : {}'.format(doc_split))\n",
    "\n",
    "# 이미지 나눌 모듈\n",
    "def split(img_list, test_count, train_path, test_path):\n",
    "\n",
    "    test_files=[]\n",
    "    for i in random.sample( img_list, test_count ):\n",
    "        test_files.append(i)\n",
    "    \n",
    "    # 차집합으로 train/test 리스트 생성하기\n",
    "    train_files = [x for x in img_list if x not in test_files]\n",
    "\n",
    "    for k in train_files:\n",
    "        shutil.copy(k, train_path)\n",
    "\n",
    "    for c in test_files:\n",
    "        shutil.copy(c, test_path)\n",
    "\n",
    "    print('train 폴더 이미지 개수 : {}\\n test 폴더 이미지 개수 : {}'.format(len(glob.glob(train_path+'/*')), len(glob.glob(test_path+'/*'))))"
   ]
  },
  {
   "cell_type": "code",
   "execution_count": 3,
   "metadata": {},
   "outputs": [
    {
     "name": "stdout",
     "output_type": "stream",
     "text": [
      "train 폴더 이미지 개수 : 9080\n",
      " test 폴더 이미지 개수 : 478\n"
     ]
    }
   ],
   "source": [
    "# 이미지 나누기 (각 지정 폴더로 들어감)\n",
    "tr_path = 'D:/coding/data_set/lomin/temp_test/train'\n",
    "te_path = 'D:/coding/data_set/lomin/temp_test/test'\n",
    "\n",
    "split(doc_img, doc_split, tr_path, te_path)"
   ]
  },
  {
   "cell_type": "markdown",
   "metadata": {},
   "source": [
    "---"
   ]
  },
  {
   "cell_type": "code",
   "execution_count": 4,
   "metadata": {},
   "outputs": [],
   "source": [
    "# 이미지 여백만들고 회전시키기 원본\n",
    "\n",
    "import os\n",
    "import glob\n",
    "import cv2\n",
    "\n",
    "test_path = 'D:/coding/data_set/lomin/temp_test/test' # test path\n",
    "\n",
    "img_list = sorted(glob.glob(test_path + '/*'))\n",
    "\n",
    "for i in img_list:\n",
    "    # print(i.split('\\\\')[1].split('.')[0])\n",
    "    src = cv2.imread(i, cv2.IMREAD_COLOR)\n",
    "    height, width, channel = src.shape\n",
    "    my_angle = 0\n",
    "\n",
    "    ##                                  중심점(center), 각도(angle), 비율(scale)\n",
    "    matrix = cv2.getRotationMatrix2D((width/2, height/2), my_angle, 0.57)\n",
    "    # 비율 : 가로길이 / 대각선\n",
    "\n",
    "    dst = cv2.warpAffine(src, matrix, (width, height))\n",
    "\n",
    "    # 변경 이미지 저장 (파일명_각도)\n",
    "    cv2.imwrite('D:/coding/data_set/lomin/temp_test/test_after/' + i.split('\\\\')[1].split('.')[0] + '_' + str(my_angle) + '.png', dst)\n",
    "\n"
   ]
  },
  {
   "cell_type": "code",
   "execution_count": null,
   "metadata": {},
   "outputs": [],
   "source": [
    "import os\n",
    "import glob\n",
    "import cv2\n",
    "\n",
    "test_path = 'D:/coding/data_set/lomin/temp_test/test' # test path\n",
    "\n",
    "img_list = sorted(glob.glob(test_path + '/*'))\n",
    "\n",
    "# 설정 각도에 따라 저장.\n",
    "def lotation_img(my_angle):\n",
    "    for i in img_list:\n",
    "        # print(i.split('\\\\')[1].split('.')[0])\n",
    "        src = cv2.imread(i, cv2.IMREAD_COLOR)\n",
    "        height, width, channel = src.shape\n",
    "        \n",
    "\n",
    "        ##                                  중심점(center), 각도(angle), 비율(scale)\n",
    "        matrix = cv2.getRotationMatrix2D((width/2, height/2), my_angle, 0.57)\n",
    "        # 비율 : 가로길이 / 대각선\n",
    "\n",
    "        dst = cv2.warpAffine(src, matrix, (width, height))\n",
    "\n",
    "        # 변경 이미지 저장 (파일명_각도)\n",
    "        cv2.imwrite('D:/coding/data_set/lomin/temp_test/test_after/' + i.split('\\\\')[1].split('.')[0] + '_' + str(my_angle) + '.png', dst)"
   ]
  },
  {
   "cell_type": "code",
   "execution_count": null,
   "metadata": {},
   "outputs": [],
   "source": [
    "lotation_img(0)"
   ]
  },
  {
   "cell_type": "markdown",
   "metadata": {},
   "source": [
    "---"
   ]
  },
  {
   "cell_type": "code",
   "execution_count": null,
   "metadata": {},
   "outputs": [],
   "source": [
    "# Annotation 새로 만들기\n",
    "#https://junyoung-jamong.github.io/machine/learning/2019/01/23/%EB%B0%94%EC%9A%B4%EB%94%A9%EB%B0%95%EC%8A%A4%EB%A5%BC-%ED%8F%AC%ED%95%A8%ED%95%9C-%EC%9D%B4%EB%AF%B8%EC%A7%80-%EC%A6%9D%ED%8F%AD%EC%8B%9C%ED%82%A4%EA%B8%B0-with-imgaug.html\n",
    "\n",
    "# 바운딩박스 복붙 (Annotation정보 읽기)\n",
    "\n",
    "import xml.etree.ElementTree as ET\n",
    "\n",
    "# 이미지 주소\n",
    "test_img_path = 'D:/coding/data_set/lomin/temp_test/test_after/'\n",
    "\n",
    "# 폴더 내 이미지 리스트\n",
    "img_list = sorted(glob.glob(test_img_path + '/*'))\n",
    "\n",
    "# Annotation 반복 만들기\n",
    "for i in img_list:\n",
    "\tFile = open(test_img_path + i.split('\\\\')[1].split('.')[0] + \".xml\", \"w\")\n",
    "\tprint(\"\"\"<annotation>\n",
    "\t<folder>test_after</folder>\n",
    "\t<filename>{}.png</filename>\n",
    "\t<path>D:\\coding\\data_set\\lomin\\\\temp_test\\\\test_after\\\\{}.png</path>\n",
    "\t<source>\n",
    "\t\t<database>Unknown</database>\n",
    "\t</source>\n",
    "\t<size>\n",
    "\t\t<width>1654</width>\n",
    "\t\t<height>2339</height>\n",
    "\t\t<depth>1</depth>\n",
    "\t</size>\n",
    "\t<segmented>0</segmented>\n",
    "\t<object>\n",
    "\t\t<name>doc</name>\n",
    "\t\t<pose>Unspecified</pose>\n",
    "\t\t<truncated>0</truncated>\n",
    "\t\t<difficult>0</difficult>\n",
    "\t\t<bndbox>\n",
    "\t\t\t<xmin>355</xmin>\n",
    "\t\t\t<ymin>503</ymin>\n",
    "\t\t\t<xmax>1299</xmax>\n",
    "\t\t\t<ymax>1836</ymax>\n",
    "\t\t</bndbox>\n",
    "\t</object>\n",
    "</annotation>\n",
    "\t\"\"\".format(i.split('\\\\')[1].split('.')[0], i.split('\\\\')[1].split('.')[0]), file=File)\n",
    "\n",
    "\tFile.close()"
   ]
  },
  {
   "cell_type": "markdown",
   "metadata": {},
   "source": [
    "---"
   ]
  },
  {
   "cell_type": "code",
   "execution_count": null,
   "metadata": {},
   "outputs": [],
   "source": []
  }
 ],
 "metadata": {
  "interpreter": {
   "hash": "282f72530e77560c27cc820d10fa477e93065ff120fb5e9c702458db82fb080b"
  },
  "kernelspec": {
   "display_name": "Python 3.7.11 64-bit ('lomin': conda)",
   "name": "python3"
  },
  "language_info": {
   "codemirror_mode": {
    "name": "ipython",
    "version": 3
   },
   "file_extension": ".py",
   "mimetype": "text/x-python",
   "name": "python",
   "nbconvert_exporter": "python",
   "pygments_lexer": "ipython3",
   "version": "3.7.11"
  },
  "orig_nbformat": 4
 },
 "nbformat": 4,
 "nbformat_minor": 2
}
