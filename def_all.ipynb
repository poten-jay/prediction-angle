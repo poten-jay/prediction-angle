{
 "cells": [
  {
   "cell_type": "code",
   "execution_count": null,
   "metadata": {},
   "outputs": [
    {
     "name": "stdout",
     "output_type": "stream",
     "text": [
      "doc_img 폴더 이미지 개수 : 9558\n",
      "doc_split : split 이미지 수 : 478\n"
     ]
    }
   ],
   "source": [
    "# 이미지 스플릿 하기\n",
    "# https://inhovation97.tistory.com/36\n",
    "\n",
    "import os\n",
    "import glob\n",
    "import math\n",
    "import shutil\n",
    "import random\n",
    "\n",
    "# 원본 이미지 폴더속 이미지 개수\n",
    "doc_img = sorted(glob.glob('D:/coding/data_set/lomin/train_copy/train/'+'/*'))\n",
    "print('doc_img 폴더 이미지 개수 : {}'.format(len(doc_img)))\n",
    "\n",
    "# 나눌 이미지 수\n",
    "doc_split = round(len(doc_img)*0.05)\n",
    "print('doc_split : split 이미지 수 : {}'.format(doc_split))\n",
    "\n",
    "# 이미지 나눌 모듈\n",
    "def split(img_list, test_count, train_path, test_path):\n",
    "\n",
    "    test_files=[]\n",
    "    for i in random.sample( img_list, test_count ):\n",
    "        test_files.append(i)\n",
    "    \n",
    "    # 차집합으로 train/test 리스트 생성하기\n",
    "    train_files = [x for x in img_list if x not in test_files]\n",
    "\n",
    "    for k in train_files:\n",
    "        shutil.copy(k, train_path)\n",
    "\n",
    "    for c in test_files:\n",
    "        shutil.copy(c, test_path)\n",
    "\n",
    "    print('train 폴더 이미지 개수 : {}\\n test 폴더 이미지 개수 : {}'.format(len(glob.glob(train_path+'/*')), len(glob.glob(test_path+'/*'))))"
   ]
  },
  {
   "cell_type": "code",
   "execution_count": null,
   "metadata": {},
   "outputs": [
    {
     "name": "stdout",
     "output_type": "stream",
     "text": [
      "train 폴더 이미지 개수 : 9080\n",
      " test 폴더 이미지 개수 : 478\n"
     ]
    }
   ],
   "source": [
    "# 이미지 나누기 (각 지정 폴더로 들어감)\n",
    "tr_path = 'D:/coding/data_set/lomin/temp_test/train'\n",
    "te_path = 'D:/coding/data_set/lomin/temp_test/test'\n",
    "\n",
    "split(doc_img, doc_split, tr_path, te_path)"
   ]
  },
  {
   "cell_type": "markdown",
   "metadata": {},
   "source": [
    "---"
   ]
  },
  {
   "cell_type": "code",
   "execution_count": 2,
   "metadata": {},
   "outputs": [],
   "source": [
    "# 이미지 여백만들고 회전시키기 원본\n",
    "\n",
    "import os\n",
    "import glob\n",
    "import cv2\n",
    "\n",
    "test_path = 'D:/coding/data_set/lomin/temp_test/test' # test path\n",
    "\n",
    "img_list = sorted(glob.glob(test_path + '/*'))\n",
    "\n",
    "for i in img_list:\n",
    "    # print(i.split('\\\\')[1].split('.')[0])\n",
    "    src = cv2.imread(i, cv2.IMREAD_COLOR)\n",
    "    height, width, channel = src.shape\n",
    "    my_angle = 0\n",
    "\n",
    "    ##                                  중심점(center), 각도(angle), 비율(scale)\n",
    "    matrix = cv2.getRotationMatrix2D((width/2, height/2), my_angle, 0.57)\n",
    "    # 비율 : 가로길이 / 대각선\n",
    "\n",
    "    dst = cv2.warpAffine(src, matrix, (width, height))\n",
    "\n",
    "    # 변경 이미지 저장 (파일명_각도)\n",
    "    cv2.imwrite('D:/coding/data_set/lomin/temp_test/test_after/' + i.split('\\\\')[1].split('.')[0] + '_' + str(my_angle) + '.png', dst)\n",
    "\n"
   ]
  },
  {
   "cell_type": "code",
   "execution_count": null,
   "metadata": {},
   "outputs": [],
   "source": [
    "import os\n",
    "import glob\n",
    "import cv2\n",
    "\n",
    "test_path = 'D:/coding/data_set/lomin/temp_test/test' # test path\n",
    "\n",
    "img_list = sorted(glob.glob(test_path + '/*'))\n",
    "\n",
    "# 설정 각도에 따라 저장.\n",
    "def lotation_img(my_angle):\n",
    "    for i in img_list:\n",
    "        # print(i.split('\\\\')[1].split('.')[0])\n",
    "        src = cv2.imread(i, cv2.IMREAD_COLOR)\n",
    "        height, width, channel = src.shape\n",
    "        \n",
    "\n",
    "        ##                                  중심점(center), 각도(angle), 비율(scale)\n",
    "        matrix = cv2.getRotationMatrix2D((width/2, height/2), my_angle, 0.57)\n",
    "        # 비율 : 가로길이 / 대각선\n",
    "\n",
    "        dst = cv2.warpAffine(src, matrix, (width, height))\n",
    "\n",
    "        # 변경 이미지 저장 (파일명_각도)\n",
    "        cv2.imwrite('D:/coding/data_set/lomin/temp_test/test_after/' + i.split('\\\\')[1].split('.')[0] + '_' + str(my_angle) + '.png', dst)"
   ]
  },
  {
   "cell_type": "code",
   "execution_count": null,
   "metadata": {},
   "outputs": [],
   "source": [
    "lotation_img(0)"
   ]
  },
  {
   "cell_type": "code",
   "execution_count": null,
   "metadata": {},
   "outputs": [],
   "source": []
  }
 ],
 "metadata": {
  "interpreter": {
   "hash": "9ded75b18057b9f19ad89bdaa2a6ec648644e456bf2f94ae6b4e57a51455dcc6"
  },
  "kernelspec": {
   "display_name": "Python 3.7.11 64-bit ('lomin': conda)",
   "name": "python3"
  },
  "language_info": {
   "codemirror_mode": {
    "name": "ipython",
    "version": 3
   },
   "file_extension": ".py",
   "mimetype": "text/x-python",
   "name": "python",
   "nbconvert_exporter": "python",
   "pygments_lexer": "ipython3",
   "version": "3.7.11"
  },
  "orig_nbformat": 4
 },
 "nbformat": 4,
 "nbformat_minor": 2
}
