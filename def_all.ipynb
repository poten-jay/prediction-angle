{
 "cells": [
  {
   "cell_type": "code",
   "execution_count": 4,
   "metadata": {},
   "outputs": [
    {
     "name": "stdout",
     "output_type": "stream",
     "text": [
      "doc_img 폴더 이미지 개수 : 11948\n",
      "doc_split : split 이미지 수 : 1195\n",
      "Wall time: 51 ms\n"
     ]
    }
   ],
   "source": [
    "%%time\n",
    "# 이미지 스플릿 하기\n",
    "# https://inhovation97.tistory.com/36\n",
    "\n",
    "import os\n",
    "import glob\n",
    "import math\n",
    "import shutil\n",
    "import random\n",
    "\n",
    "# 원본 이미지 폴더속 이미지 개수\n",
    "doc_img = sorted(glob.glob('D:/coding/data_set/lomin/train/'+'/*'))\n",
    "print('doc_img 폴더 이미지 개수 : {}'.format(len(doc_img)))\n",
    "\n",
    "# 나눌 이미지 수\n",
    "doc_split = round(len(doc_img)*0.1)\n",
    "print('doc_split : split 이미지 수 : {}'.format(doc_split))\n",
    "\n",
    "# 이미지 나누기 정의\n",
    "def split(img_list, test_count, train_path, test_path):\n",
    "\n",
    "    test_files=[]\n",
    "    for i in random.sample( img_list, test_count ):\n",
    "        test_files.append(i)\n",
    "    \n",
    "    # 차집합으로 train/test 리스트 생성하기\n",
    "    train_files = [x for x in img_list if x not in test_files]\n",
    "\n",
    "    for k in train_files:\n",
    "        shutil.copy(k, train_path)\n",
    "\n",
    "    for c in test_files:\n",
    "        shutil.copy(c, test_path)\n",
    "\n",
    "    print('train 폴더 이미지 개수 : {}\\n test 폴더 이미지 개수 : {}'.format(len(glob.glob(train_path+'/*')), len(glob.glob(test_path+'/*'))))"
   ]
  },
  {
   "cell_type": "code",
   "execution_count": 5,
   "metadata": {},
   "outputs": [
    {
     "name": "stdout",
     "output_type": "stream",
     "text": [
      "train 폴더 이미지 개수 : 10753\n",
      " test 폴더 이미지 개수 : 1195\n"
     ]
    }
   ],
   "source": [
    "# 이미지 나누기 (각 지정 폴더로 들어감)\n",
    "tr_path = 'D:/coding/data_set/lomin/train_copy2/train'\n",
    "te_path = 'D:/coding/data_set/lomin/train_copy2/test'\n",
    "\n",
    "split(doc_img, doc_split, tr_path, te_path)"
   ]
  },
  {
   "cell_type": "markdown",
   "metadata": {},
   "source": [
    "---"
   ]
  },
  {
   "cell_type": "markdown",
   "metadata": {},
   "source": [
    "# 데이터 전처리\n",
    "\n",
    "### 신규 이미지는 xml 을 다시 만들어 줘야 함"
   ]
  },
  {
   "cell_type": "code",
   "execution_count": 1,
   "metadata": {},
   "outputs": [],
   "source": [
    "# Annotation 새로 만들기 (한개만)\n",
    "#https://junyoung-jamong.github.io/machine/learning/2019/01/23/%EB%B0%94%EC%9A%B4%EB%94%A9%EB%B0%95%EC%8A%A4%EB%A5%BC-%ED%8F%AC%ED%95%A8%ED%95%9C-%EC%9D%B4%EB%AF%B8%EC%A7%80-%EC%A6%9D%ED%8F%AD%EC%8B%9C%ED%82%A4%EA%B8%B0-with-imgaug.html\n",
    "\n",
    "# 바운딩박스 복붙 (Annotation정보 읽기)\n",
    "import os\n",
    "import glob\n",
    "import cv2\n",
    "import xml.etree.ElementTree as ET\n",
    "\n",
    "# Annotation 반복 만들기 (기본 0도)\n",
    "def annotation_one_xml(origin_path, make_path):\n",
    "    \n",
    "    # 폴더 내 이미지 리스트\n",
    "    # img_list = sorted(glob.glob(origin_path + '/*'))\n",
    "\n",
    "    # for i in img_list:\n",
    "        # File = open(origin_path + i.split('\\\\')[1].split('.')[0] + \".xml\", \"w\")\n",
    "        File = open(origin_path + make_path.split('/')[-1].split('.')[0] + \".xml\", \"w\")\n",
    "        print(\"\"\"<annotation>\n",
    "    <folder>test_after</folder>\n",
    "    <filename>{}.png</filename>\n",
    "    <path>D:\\coding\\data_set\\lomin\\\\train_copy\\\\train\\\\{}.png</path>\n",
    "    <source>\n",
    "        <database>Unknown</database>\n",
    "    </source>\n",
    "    <size>\n",
    "        <width>1654</width>\n",
    "        <height>2339</height>\n",
    "        <depth>1</depth>\n",
    "    </size>\n",
    "    <segmented>0</segmented>\n",
    "    <object>\n",
    "        <name>0</name>\n",
    "        <pose>Unspecified</pose>\n",
    "        <truncated>0</truncated>\n",
    "        <difficult>0</difficult>\n",
    "        <bndbox>\n",
    "            <xmin>355</xmin>\n",
    "            <ymin>503</ymin>\n",
    "            <xmax>1299</xmax>\n",
    "            <ymax>1836</ymax>\n",
    "        </bndbox>\n",
    "    </object>\n",
    "</annotation>\n",
    "        \"\"\".format(make_path.split('/')[-1].split('.')[0], make_path.split('/')[-1].split('.')[0]), file=File)\n",
    "\n",
    "        File.close()"
   ]
  },
  {
   "cell_type": "markdown",
   "metadata": {},
   "source": [
    "---"
   ]
  },
  {
   "cell_type": "markdown",
   "metadata": {},
   "source": [
    "# 이미지 크롭 (랜덤하게 부분 돌면서)"
   ]
  },
  {
   "cell_type": "code",
   "execution_count": null,
   "metadata": {},
   "outputs": [],
   "source": [
    "## 이미지 크롭 (500*500)\n",
    "\n",
    "import os\n",
    "import glob\n",
    "import cv2\n",
    "import random\n",
    "\n",
    "# 경로 설정\n",
    "input_path = 'D:/coding/data_set/lomin/train_copy3/temp/' \n",
    "output_path = 'D:/coding/data_set/lomin/train_copy3/temp1/'\n",
    "\n",
    "def crop_500(input_path, output_path):\n",
    "    img_list = sorted(glob.glob(input_path + '/*'))\n",
    "\n",
    "    for i in img_list:\n",
    "\n",
    "        src = cv2.imread(i, cv2.IMREAD_COLOR)\n",
    "        \n",
    "        height, width, channel = src.shape\n",
    "        \n",
    "        ## 이미지 에서 500*500 이미지를 crop 함\n",
    "        x_range = width - 501\n",
    "        y_range = height - 501\n",
    "        \n",
    "        for j in range(0, 3):\n",
    "            x1 = x_random = random.randint(0, x_range)\n",
    "            y1 = y_random = random.randint(0, y_range)\n",
    "            x2 = x1 + 500\n",
    "            y2 = y1 + 500 \n",
    "            # print(y1, y2, x1, x2)\n",
    "            \n",
    "            dst = src[y1:y2, x1:x2]\n",
    "            \n",
    "            cv2.imwrite(output_path + i.split('\\\\')[1].split('.')[0] + '_' + str(my_angle) + '(' + str(j) + ')' + '.png', dst)\n",
    "            \n",
    "            # 문제점 - 회전을 한 이미지 crop 시 좌표도 회전하게 됨. (이미지 짤림)\n",
    "            # affine 은 이미지를 회전, 왜곡 해도 좌표 정보를 그대로 가지고 있음."
   ]
  },
  {
   "cell_type": "markdown",
   "metadata": {},
   "source": [
    "---"
   ]
  },
  {
   "cell_type": "markdown",
   "metadata": {},
   "source": [
    "# 여백 흰색으로 이미지 회전"
   ]
  },
  {
   "cell_type": "code",
   "execution_count": 1,
   "metadata": {},
   "outputs": [],
   "source": [
    "# 이미지 회전시키기 (원본)\n",
    "\n",
    "import os\n",
    "import glob\n",
    "import cv2\n",
    "\n",
    "# 경로 설정\n",
    "# input_path = 'D:/coding/data_set/lomin/train_copy3/temp/' \n",
    "# output_path = 'D:/coding/data_set/lomin/train_copy3/temp1/'\n",
    "\n",
    "input_path = 'D:/coding/data_set/lomin/train_copy3/temp1/' \n",
    "output_path = 'D:/coding/data_set/lomin/train_copy3/temp2/'\n",
    "\n",
    "def ro_img_lite(angle, input_path, output_path):\n",
    "    # 경로 폴더 만들기\n",
    "    try :\n",
    "        os.makedirs(output_path)\n",
    "    except:\n",
    "        pass\n",
    "\n",
    "    img_list = sorted(glob.glob(input_path + '/*'))\n",
    "\n",
    "    for i in img_list:\n",
    "        if not '.ini' in i:\n",
    "            # print(i.split('\\\\')[1].split('.')[0])\n",
    "            src = cv2.imread(i, cv2.IMREAD_COLOR)\n",
    "            height, width, channel = src.shape\n",
    "            my_angle = angle\n",
    "\n",
    "            ##                                  중심점(center), 각도(angle), 비율(scale)\n",
    "            matrix = cv2.getRotationMatrix2D((width/2, height/2), -my_angle, 1)\n",
    "            # 비율 : 가로길이 / 대각선\n",
    "\n",
    "            #                                           흰색 : borderValue=(255, 255, 255)\n",
    "            dst = cv2.warpAffine(src, matrix, (width, height), borderValue=(255, 255, 255))\n",
    "\n",
    "            # 변경 이미지 저장 (파일명_각도)\n",
    "            # cv2.imwrite(output_path + i.split('\\\\')[1].split('.')[0] + '_' + str(my_angle) + '.png', dst)\n",
    "            cv2.imwrite(output_path + i.split('\\\\')[1].split('.')[0] + '.png', dst)\n",
    "\n"
   ]
  },
  {
   "cell_type": "code",
   "execution_count": 4,
   "metadata": {},
   "outputs": [],
   "source": [
    "## 이미지 크롭 (500*500)\n",
    "\n",
    "import os\n",
    "import glob\n",
    "import cv2\n",
    "import random\n",
    "\n",
    "# 경로 설정\n",
    "input_path = 'D:/coding/data_set/lomin/train_copy3/temp/' \n",
    "output_path = 'D:/coding/data_set/lomin/train_copy3/temp1/'\n",
    "\n",
    "def img_crop_ro(my_angle, input_path, output_path):\n",
    "    img_list = sorted(glob.glob(input_path + '/*'))\n",
    "\n",
    "    for i in img_list:\n",
    "\n",
    "        src = cv2.imread(i, cv2.IMREAD_COLOR)\n",
    "        \n",
    "        height, width, channel = src.shape\n",
    "        \n",
    "        ## 이미지 에서 500*500 이미지를 crop 함\n",
    "        x_range = width - 501\n",
    "        y_range = height - 501\n",
    "        \n",
    "        for j in range(0, 3):\n",
    "            x1 = x_random = random.randint(0, x_range)\n",
    "            y1 = y_random = random.randint(0, y_range)\n",
    "            x2 = x1 + 500\n",
    "            y2 = y1 + 500 \n",
    "            # print(y1, y2, x1, x2)\n",
    "            \n",
    "            dst = src[y1:y2, x1:x2]\n",
    "\n",
    "\n",
    "            cv2.imwrite(output_path + i.split('\\\\')[1].split('.')[0]  + '(' + str(j) + ')' + '_' + str(my_angle) + '.png', dst)\n",
    "            \n",
    "\n",
    "        ro_img_lite(my_angle, output_path, output_path)\n",
    "            # 문제점 - 회전을 한 이미지 crop 시 좌표도 회전하게 됨. (이미지 짤림)\n",
    "            # affine 은 이미지를 회전, 왜곡 해도 좌표 정보를 그대로 가지고 있음."
   ]
  },
  {
   "cell_type": "code",
   "execution_count": 5,
   "metadata": {},
   "outputs": [],
   "source": [
    "input_path = 'D:/coding/data_set/lomin/train_copy3/temp/' \n",
    "output_path = 'D:/coding/data_set/lomin/train_copy3/temp1/'\n",
    "\n",
    "img_crop_ro(66, input_path, output_path)"
   ]
  },
  {
   "cell_type": "markdown",
   "metadata": {},
   "source": [
    "---"
   ]
  },
  {
   "cell_type": "markdown",
   "metadata": {},
   "source": [
    "# 이미지 크롭하고 회전시켜 저장하기"
   ]
  },
  {
   "cell_type": "code",
   "execution_count": null,
   "metadata": {},
   "outputs": [],
   "source": [
    "def rotation_crop(angle, path):\n",
    "    # print(i.split('\\\\')[1].split('.')[0])\n",
    "    src = cv2.imread(path, cv2.IMREAD_COLOR)\n",
    "    height, width, channel = src.shape\n",
    "    my_angle = angle\n",
    "\n",
    "    ##                                  중심점(center), 각도(angle), 비율(scale)\n",
    "    matrix = cv2.getRotationMatrix2D((width/2, height/2), -my_angle, 1)\n",
    "    # 비율 : 가로길이 / 대각선\n",
    "\n",
    "    #                                           흰색 : borderValue=(255, 255, 255)\n",
    "    dst = cv2.warpAffine(src, matrix, (width, height), borderValue=(255, 255, 255))\n",
    "\n",
    "    # 변경 이미지 저장 (파일명_각도)\n",
    "    # cv2.imwrite(output_path + i.split('\\\\')[1].split('.')[0] + '_' + str(my_angle) + '.png', dst)\n",
    "    cv2.imwrite(path, dst)"
   ]
  },
  {
   "cell_type": "code",
   "execution_count": null,
   "metadata": {},
   "outputs": [],
   "source": [
    "import os\n",
    "import glob\n",
    "import cv2\n",
    "import random\n",
    "import numpy as np\n",
    "\n",
    "def lotation_img(img_count, input_path, output_path):\n",
    "    # 폴더 만들기\n",
    "    try :\n",
    "        os.makedirs(output_path)\n",
    "    except:\n",
    "        pass\n",
    "\n",
    "    img_list = sorted(glob.glob(input_path + '/*'))\n",
    "\n",
    "    # 각도\n",
    "    for j in range(0, 360):\n",
    "        # 전체 이미지 중 랜덤하게 추출\n",
    "        random_list = np.random.choice(img_list, img_count, replace=False)\n",
    "        \n",
    "        for i in random_list:\n",
    "            src = cv2.imread(i, cv2.IMREAD_COLOR)\n",
    "            \n",
    "            height, width, channel = src.shape\n",
    "            \n",
    "            ## 이미지 에서 500*500 이미지를 crop 함\n",
    "            x_range = width - 501\n",
    "            y_range = height - 501\n",
    "            \n",
    "            for k in range(0, 3):\n",
    "                x1 = x_random = random.randint(0, x_range)\n",
    "                y1 = y_random = random.randint(0, y_range)\n",
    "                x2 = x1 + 500\n",
    "                y2 = y1 + 500 \n",
    "                # print(y1, y2, x1, x2)\n",
    "                \n",
    "                dst = src[y1:y2, x1:x2]\n",
    "\n",
    "\n",
    "                total_path = output_path + i.split('\\\\')[-1].split('.')[0] + '('+str(k)+\")_\" + str(j) + '.png' \n",
    "                cv2.imwrite(total_path, dst)\n",
    "                \n",
    "                # 이미지 회전\n",
    "                rotation_crop(j, total_path)\n",
    "            \n"
   ]
  },
  {
   "cell_type": "code",
   "execution_count": null,
   "metadata": {},
   "outputs": [],
   "source": [
    "input_path = 'D:/coding/data_set/lomin/train_copy3/temp/' \n",
    "output_path = 'D:/coding/data_set/lomin/train_copy3/temp1/'\n",
    "\n",
    "lotation_img(30, input_path, output_path)"
   ]
  },
  {
   "cell_type": "markdown",
   "metadata": {},
   "source": [
    "---"
   ]
  },
  {
   "cell_type": "code",
   "execution_count": 2,
   "metadata": {},
   "outputs": [],
   "source": [
    "## Annotation 읽기\n",
    "\n",
    "# https://junyoung-jamong.github.io/machine/learning/2019/01/23/%EB%B0%94%EC%9A%B4%EB%94%A9%EB%B0%95%EC%8A%A4%EB%A5%BC-%ED%8F%AC%ED%95%A8%ED%95%9C-%EC%9D%B4%EB%AF%B8%EC%A7%80-%EC%A6%9D%ED%8F%AD%EC%8B%9C%ED%82%A4%EA%B8%B0-with-imgaug.html\n",
    "\n",
    "import xml.etree.ElementTree as ET\n",
    "\n",
    "def read_anntation(xml_file: str):\n",
    "    tree = ET.parse(xml_file)\n",
    "    root = tree.getroot()\n",
    "\n",
    "    bounding_box_list = []\n",
    "\n",
    "    file_name = root.find('filename').text\n",
    "    for obj in root.iter('object'):\n",
    "\n",
    "        object_label = obj.find(\"name\").text\n",
    "        for box in obj.findall(\"bndbox\"):\n",
    "            x_min = int(box.find(\"xmin\").text)\n",
    "            y_min = int(box.find(\"ymin\").text)\n",
    "            x_max = int(box.find(\"xmax\").text)\n",
    "            y_max = int(box.find(\"ymax\").text)\n",
    "\n",
    "        bounding_box = [object_label, x_min, y_min, x_max, y_max]\n",
    "        bounding_box_list.append(bounding_box)\n",
    "\n",
    "    return bounding_box_list, file_name"
   ]
  },
  {
   "cell_type": "code",
   "execution_count": 3,
   "metadata": {},
   "outputs": [],
   "source": [
    "## 이미지 데이터 읽기 (파일 1개 읽기)\n",
    "\n",
    "from os import listdir\n",
    "import cv2\n",
    "import numpy as np\n",
    "\n",
    "def read_one_train_dataset(dir, file):\n",
    "    images = []\n",
    "    annotations = []\n",
    "\n",
    "    if 'jpg' in file.lower() or 'png' in file.lower():\n",
    "        images.append(cv2.imread(dir + file, 1))\n",
    "        annotation_file = file.replace(file.split('.')[-1], 'xml')\n",
    "        bounding_box_list, file_name = read_anntation(dir + annotation_file)\n",
    "        annotations.append((bounding_box_list, annotation_file, file_name))\n",
    "\n",
    "    # images = np.array(images)\n",
    "\n",
    "    return images, annotations"
   ]
  },
  {
   "cell_type": "markdown",
   "metadata": {},
   "source": [
    "---"
   ]
  },
  {
   "cell_type": "code",
   "execution_count": 25,
   "metadata": {},
   "outputs": [],
   "source": [
    "## 폴더 생성 + 검은 배경 추가 + 360도 회전 + annotation 추가 (회전각에 대한 박스 변경)\n",
    "\n",
    "import os\n",
    "import glob\n",
    "import cv2\n",
    "import imgaug as ia\n",
    "from imgaug import augmenters as iaa\n",
    "from pascal_voc_writer import Writer\n",
    "import xml.etree.ElementTree as ET\n",
    "\n",
    "# input_path = 'D:/coding/data_set/lomin/train_copy2/train' \n",
    "# output_path = 'D:/coding/data_set/lomin/train_copy2/train_angle/'\n",
    "\n",
    "# img_count = 몇장 씩 => 360도 \n",
    "def lotation_img(img_count, input_path, output_path):\n",
    "    \n",
    "    # 폴더 만들기\n",
    "    os.makedirs(output_path)\n",
    "\n",
    "    img_list = sorted(glob.glob(input_path + '/*'))\n",
    "\n",
    "    for j in range(0, 360):\n",
    "        # 전체 이미지 중 랜덤하게 추출\n",
    "        random_list = np.random.choice(img_list, img_count, replace=False)\n",
    "        \n",
    "        for i in random_list:\n",
    "            # print(i.split('\\\\')[1].split('.')[0])\n",
    "            src = cv2.imread(i, cv2.IMREAD_COLOR)\n",
    "            height, width, channel = src.shape\n",
    "            \n",
    "            ##                                  중심점(center), 각도(angle), 비율(scale)\n",
    "            matrix = cv2.getRotationMatrix2D((width/2, height/2), -j, 0.57)\n",
    "            # 비율 : 가로길이 / 대각선\n",
    "\n",
    "            #                                           흰색 : borderValue=(255, 255, 255)\n",
    "            dst = cv2.warpAffine(src, matrix, (width, height), borderValue=(255, 255, 255))\n",
    "\n",
    "            # 변경 이미지 저장 (파일명_각도)\n",
    "            fname_angle = i.split('\\\\')[1].split('.')[0] + '_' + str(j) + '.png'\n",
    "            cv2.imwrite(output_path + fname_angle, dst)\n",
    "            \n",
    "            # cv2.imwrite(output_path + i.split('\\\\')[1].split('.')[0] + '.png', dst)\n",
    "            \n",
    "            # annotation 파일 추가 (기본 0도 파일만 생성)\n",
    "            xml_path = output_path + fname_angle\n",
    "            annotation_one_xml(output_path, xml_path)\n",
    "            \n",
    "            # 생성된 이미지 기반으로 이미지정보, xml 정보를 읽음\n",
    "            images, annotations = read_one_train_dataset(output_path, fname_angle)\n",
    "\n",
    "            image = images[0]\n",
    "            boxes = annotations[0][0]\n",
    "\n",
    "            # 추출된 xml 정보 중 bbox 좌표만 추출\n",
    "            ia_bounding_boxes = []\n",
    "            for box in boxes:\n",
    "                ia_bounding_boxes.append(ia.BoundingBox(x1=box[1], y1=box[2], x2=box[3], y2=box[4]))\n",
    "\n",
    "            bbs = ia.BoundingBoxesOnImage(ia_bounding_boxes, shape=image.shape)\n",
    "            \n",
    "            # 이미지 변환 각종 옵션들 (현재는 회전만 함 - 사용시 아래의 이미지 생성을 사용해야 함)\n",
    "            seq = iaa.Sequential([\n",
    "                # iaa.Multiply((1.2, 1.5)),\n",
    "                iaa.Affine(\n",
    "                    # translate_px={\"x\": 40, \"y\": 60},\n",
    "                    # scale=(0.5, 0.7),\n",
    "                    rotate = int(j)\n",
    "                )\n",
    "            ])\n",
    "\n",
    "            seq_det = seq.to_deterministic()\n",
    "\n",
    "            image_aug = seq_det.augment_images([image])[0]\n",
    "            bbs_aug = seq_det.augment_bounding_boxes([bbs])[0]\n",
    "\n",
    "            # new_image_file = output_path + annotations[0][2].split('.')[0] + '_' + str(j) + \".\" + annotations[0][2].split('.')[1]\n",
    "            new_image_file = output_path + annotations[0][2].split('.')[0] + \".\" + annotations[0][2].split('.')[1]\n",
    "            # 이미지 파일 생성 (이미지 파일은 위에서 이미 생성 했음)\n",
    "            # cv2.imwrite(new_image_file, image_aug)\n",
    "\n",
    "            h, w = np.shape(image_aug)[0:2]\n",
    "            voc_writer = Writer(new_image_file, w, h)\n",
    "\n",
    "            # xml 파일 내부 속성 바꿈\n",
    "            for i in range(len(bbs_aug.bounding_boxes)):\n",
    "                bb_box = bbs_aug.bounding_boxes[i]\n",
    "                # name (label) , x1, x2, y1, y2 값 바꿈\n",
    "                voc_writer.addObject(j, int(bb_box.x1), int(bb_box.y1), int(bb_box.x2), int(bb_box.y2))\n",
    "\n",
    "            # annotation 파일 내부 좌표를 변경함\n",
    "            voc_writer.save(output_path + annotations[0][1].split('.')[0] + \".\" + annotations[0][1].split('.')[1])\n"
   ]
  },
  {
   "cell_type": "code",
   "execution_count": 28,
   "metadata": {},
   "outputs": [
    {
     "name": "stdout",
     "output_type": "stream",
     "text": [
      "Wall time: 21min 59s\n"
     ]
    }
   ],
   "source": [
    "%%time\n",
    "\n",
    "## 전처리 실행 (train)\n",
    "\n",
    "input_path = 'D:/coding/data_set/lomin/train_copy2/train' \n",
    "output_path = 'D:/coding/data_set/lomin/train_copy2/train_angle/'\n",
    "\n",
    "lotation_img(30, input_path, output_path)"
   ]
  },
  {
   "cell_type": "code",
   "execution_count": 27,
   "metadata": {},
   "outputs": [
    {
     "name": "stdout",
     "output_type": "stream",
     "text": [
      "Wall time: 2min 15s\n"
     ]
    }
   ],
   "source": [
    "%%time\n",
    "\n",
    "## 전처리 실행 (test)\n",
    "\n",
    "input_path = 'D:/coding/data_set/lomin/train_copy2/test' \n",
    "output_path = 'D:/coding/data_set/lomin/train_copy2/test_angle/'\n",
    "\n",
    "lotation_img(3, input_path, output_path)"
   ]
  },
  {
   "cell_type": "markdown",
   "metadata": {},
   "source": [
    "---"
   ]
  },
  {
   "cell_type": "code",
   "execution_count": 121,
   "metadata": {},
   "outputs": [
    {
     "name": "stdout",
     "output_type": "stream",
     "text": [
      "(2339, 1654, 3)\n"
     ]
    }
   ],
   "source": [
    "from PIL import Image\n",
    "aaa = Image.open(idx + '000876.png')\n",
    "imgArray = np.asarray(aaa)\n",
    "print(imgArray.shape)"
   ]
  },
  {
   "cell_type": "markdown",
   "metadata": {},
   "source": [
    "---"
   ]
  },
  {
   "cell_type": "code",
   "execution_count": null,
   "metadata": {},
   "outputs": [],
   "source": [
    " "
   ]
  }
 ],
 "metadata": {
  "interpreter": {
   "hash": "9ded75b18057b9f19ad89bdaa2a6ec648644e456bf2f94ae6b4e57a51455dcc6"
  },
  "kernelspec": {
   "display_name": "Python 3.7.11 64-bit ('lomin': conda)",
   "name": "python3"
  },
  "language_info": {
   "codemirror_mode": {
    "name": "ipython",
    "version": 3
   },
   "file_extension": ".py",
   "mimetype": "text/x-python",
   "name": "python",
   "nbconvert_exporter": "python",
   "pygments_lexer": "ipython3",
   "version": "3.7.11"
  },
  "orig_nbformat": 4
 },
 "nbformat": 4,
 "nbformat_minor": 2
}
