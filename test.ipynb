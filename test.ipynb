{
 "cells": [
  {
   "cell_type": "code",
   "execution_count": 14,
   "metadata": {},
   "outputs": [],
   "source": [
    "import cv2\n",
    "import numpy as np\n",
    "from matplotlib import pyplot as plt"
   ]
  },
  {
   "cell_type": "code",
   "execution_count": 2,
   "metadata": {},
   "outputs": [],
   "source": [
    "sample_img = 'D:/coding/data_set/lomin/000000.png'"
   ]
  },
  {
   "cell_type": "code",
   "execution_count": 3,
   "metadata": {},
   "outputs": [
    {
     "name": "stdout",
     "output_type": "stream",
     "text": [
      "<class 'numpy.ndarray'>\n",
      "(2339, 1654, 3)\n",
      "<class 'tuple'>\n"
     ]
    }
   ],
   "source": [
    "import cv2\n",
    "\n",
    "img = cv2.imread(sample_img)\n",
    "\n",
    "\n",
    "print(type(img))\n",
    "print(img.shape)\n",
    "print(type(img.shape))"
   ]
  },
  {
   "cell_type": "code",
   "execution_count": 4,
   "metadata": {},
   "outputs": [
    {
     "name": "stdout",
     "output_type": "stream",
     "text": [
      "width:   1654\n",
      "height:  2339\n",
      "channel: 3\n"
     ]
    }
   ],
   "source": [
    "h, w, c = img.shape\n",
    "print('width:  ', w)\n",
    "print('height: ', h)\n",
    "print('channel:', c)"
   ]
  },
  {
   "cell_type": "code",
   "execution_count": 5,
   "metadata": {},
   "outputs": [
    {
     "ename": "AttributeError",
     "evalue": "module 'cv2.cv2' has no attribute 'ROTATE_15_CLOCKWISE'",
     "output_type": "error",
     "traceback": [
      "\u001b[1;31m---------------------------------------------------------------------------\u001b[0m",
      "\u001b[1;31mAttributeError\u001b[0m                            Traceback (most recent call last)",
      "\u001b[1;32m<ipython-input-5-1ffc6c6f7381>\u001b[0m in \u001b[0;36m<module>\u001b[1;34m\u001b[0m\n\u001b[0;32m      8\u001b[0m \u001b[1;33m\u001b[0m\u001b[0m\n\u001b[0;32m      9\u001b[0m \u001b[1;33m\u001b[0m\u001b[0m\n\u001b[1;32m---> 10\u001b[1;33m \u001b[0mimg5\u001b[0m \u001b[1;33m=\u001b[0m \u001b[0mcv2\u001b[0m\u001b[1;33m.\u001b[0m\u001b[0mrotate\u001b[0m\u001b[1;33m(\u001b[0m\u001b[0mimg\u001b[0m\u001b[1;33m,\u001b[0m \u001b[0mcv2\u001b[0m\u001b[1;33m.\u001b[0m\u001b[0mROTATE_15_CLOCKWISE\u001b[0m\u001b[1;33m)\u001b[0m\u001b[1;33m\u001b[0m\u001b[1;33m\u001b[0m\u001b[0m\n\u001b[0m\u001b[0;32m     11\u001b[0m \u001b[1;33m\u001b[0m\u001b[0m\n\u001b[0;32m     12\u001b[0m \u001b[1;31m# cv2.imshow('original', img)\u001b[0m\u001b[1;33m\u001b[0m\u001b[1;33m\u001b[0m\u001b[1;33m\u001b[0m\u001b[0m\n",
      "\u001b[1;31mAttributeError\u001b[0m: module 'cv2.cv2' has no attribute 'ROTATE_15_CLOCKWISE'"
     ]
    }
   ],
   "source": [
    "# 이미지 회전\n",
    "img = cv2.imread(sample_img, cv2.IMREAD_COLOR)\n",
    " \n",
    "img90 = cv2.rotate(img, cv2.ROTATE_90_CLOCKWISE) # 시계방향으로 90도 회전\n",
    "img180 = cv2.rotate(img, cv2.ROTATE_180) # 180도 회전\n",
    "img270 = cv2.rotate(img, cv2.ROTATE_90_COUNTERCLOCKWISE) # 반시계방향으로 90도 회전 \n",
    "                                                         # = 시계방향으로 270도 회전\n",
    " \n",
    "\n",
    "img5 = cv2.rotate(img, cv2.ROTATE_15_CLOCKWISE)\n",
    "\n",
    "# cv2.imshow('original', img)\n",
    "# cv2.imshow('rotate90', img90)\n",
    "# cv2.imshow('rotate180', img180)\n",
    "# cv2.imshow('rotate270', img270)\n",
    "cv2.imshow('rotate5', img5)\n",
    " \n",
    "cv2.waitKey(0)\n",
    "cv2.destroyAllWindows()\n"
   ]
  },
  {
   "cell_type": "code",
   "execution_count": 6,
   "metadata": {},
   "outputs": [],
   "source": [
    "''' made by 안산드레아스 이미지 회전하기 필요 패키지 : python-opencv ''' \n",
    "import cv2 \n",
    "''' 이미지를 돌리는 함수 :param \n",
    "img : 이미지 \n",
    "degree : 회전각 ''' \n",
    "\n",
    "def im_rotate(img, degree): \n",
    "    h, w = img.shape[:-1]\n",
    "    crossLine = int(((w * h + h * w) ** 0.5)) \n",
    "    centerRotatePT = int(w / 2), int(h / 2)     \n",
    "    new_h, new_w = h, w \n",
    "    rotatefigure = cv2.getRotationMatrix2D(centerRotatePT, degree, 1) \n",
    "    result = cv2.warpAffine(img, rotatefigure, (new_w, new_h)) \n",
    "    return result \n",
    "\n",
    "# 현재경로의 이미지 불러오기 \n",
    "sample = cv2.imread(sample_img) \n",
    "cv2.imshow('org', sample) # 함수 실행하기 \n",
    "\n",
    "# 원본영상의 자를 영역 원점 x,y좌표 지정. 그리고 새로 생성할 이미지 frame크기 지정 \n",
    "result = im_rotate(sample, 10) \n",
    "cv2.imshow('img', result) \n",
    "cv2.waitKey(0) \n",
    "cv2.destroyAllWindows()\n",
    "\n"
   ]
  },
  {
   "cell_type": "code",
   "execution_count": 13,
   "metadata": {},
   "outputs": [],
   "source": [
    "# 테두리 여백 추가하기\n",
    "# https://codesample-factory.tistory.com/797\n",
    "\n",
    "import numpy as np\n",
    "import cv2\n",
    "\n",
    "im = cv2.imread(sample_img)\n",
    "row, col = im.shape[:2]\n",
    "bottom = im[row-2:row, 0:col]\n",
    "mean = cv2.mean(bottom)[0]\n",
    "\n",
    "bordersize = 100\n",
    "border = cv2.copyMakeBorder(\n",
    "    im,\n",
    "    top=bordersize,\n",
    "    bottom=bordersize,\n",
    "    left=bordersize,\n",
    "    right=bordersize,\n",
    "    borderType=cv2.BORDER_CONSTANT,\n",
    "    value=[mean, mean, mean]\n",
    ")\n",
    "\n",
    "cv2.imshow('image', im)\n",
    "cv2.imshow('bottom', bottom)\n",
    "cv2.imshow('border', border)\n",
    "cv2.waitKey(0)\n",
    "cv2.destroyAllWindows()"
   ]
  },
  {
   "cell_type": "markdown",
   "metadata": {},
   "source": [
    "추가 여분\n",
    "\n",
    "(중심점 기준 생각)\n",
    "\n",
    "위, 아래 = 대각선 길이/2 - 높이/2\n",
    "\n",
    "양 옆 = 대각선 길이/2 - 넓이/2 \n",
    "\n",
    "total 정사각형이 될 것. 그 안에 직사각형 문서가 바운딩 됨 (중심점 기준)\n",
    "\n",
    "이미지의 위 와 가까운 곳 찾기 (원본, 90도, 180도, 270도 회전) 4포인트 확인\n",
    "이미지가 회전은 -45 ~ 45 도 만큼 학습."
   ]
  },
  {
   "cell_type": "code",
   "execution_count": 4,
   "metadata": {},
   "outputs": [
    {
     "data": {
      "image/png": "[encoded data removed]",
      "text/plain": [
       "<Figure size 432x288 with 2 Axes>"
      ]
     },
     "metadata": {
      "needs_background": "light"
     },
     "output_type": "display_data"
    },
    {
     "data": {
      "text/plain": [
       "<Figure size 432x576 with 0 Axes>"
      ]
     },
     "metadata": {},
     "output_type": "display_data"
    }
   ],
   "source": [
    "# 이미지 회전\n",
    "# https://076923.github.io/posts/Python-opencv-6/\n",
    "\n",
    "import cv2\n",
    "import matplotlib.pyplot as plt\n",
    "\n",
    "sample_img = 'D:/coding/data_set/lomin/000000.png'\n",
    "\n",
    "src = cv2.imread(sample_img, cv2.IMREAD_COLOR)\n",
    "\n",
    "height, width, channel = src.shape\n",
    "\n",
    "##                         중심점(center), 각도(angle), 비율(scale)\n",
    "matrix = cv2.getRotationMatrix2D((width/2, height/2), 55, 0.5)\n",
    "dst = cv2.warpAffine(src, matrix, (width, height))\n",
    "\n",
    "cv2.imwrite('D:/coding/data_set/lomin/after/'+'000000'+'.png',dst)\n",
    "\n",
    "#\n",
    "# cv2.imshow(\"src\", src)\n",
    "# cv2.imshow(\"dst\", dst)\n",
    "# cv2.waitKey()\n",
    "# cv2.destroyAllWindows()\n",
    "\n",
    "########## \n",
    "plt.subplot(121),plt.imshow(src),plt.title('image')\n",
    "plt.subplot(122),plt.imshow(dst),plt.title('Affine')\n",
    "plt.figure(figsize=(6,8))\n",
    "plt.show()\n"
   ]
  },
  {
   "cell_type": "code",
   "execution_count": 11,
   "metadata": {},
   "outputs": [
    {
     "name": "stdout",
     "output_type": "stream",
     "text": [
      "높이 :  2339\n",
      "넓이 :  1654\n",
      "체널 :  3\n"
     ]
    }
   ],
   "source": [
    "print(\"높이 : \",height)\n",
    "print(\"넓이 : \",width)\n",
    "print(\"체널 : \",channel)"
   ]
  },
  {
   "cell_type": "markdown",
   "metadata": {},
   "source": [
    "--- \n",
    "삭제"
   ]
  },
  {
   "cell_type": "code",
   "execution_count": null,
   "metadata": {},
   "outputs": [],
   "source": [
    "## 주의 - 시간복잡도 증가\n",
    "\n",
    "## 이미지와 xml 파일을 랜덤으로 골라 각도별 폴더에 복사 붙여넣기 (memory out 방지)\n",
    "## 각도는 신경 안쓰고 폴더에 파일 분배만 함\n",
    "import glob\n",
    "import shutil\n",
    "\n",
    "dir = 'D:/coding/data_set/lomin/train_copy/train/'\n",
    "\n",
    "# 새 파일 넣을 경로 및 폴더 만들기\n",
    "dir_after = 'D:/coding/data_set/lomin/train_copy/train_angle/'\n",
    "os.makedirs(dir_after)\n",
    "\n",
    "# dir 에 png 파일 선택 (내림차순)\n",
    "dir_png = sorted(glob.glob(dir+'/*.png'))\n",
    "\n",
    "## 각 폴더마다 몇개의 샘플을 만들 것인가?\n",
    "num_img = 20\n",
    "\n",
    "# 원하는 각도 만큼 폴더 생성\n",
    "for i in range(0,5):\n",
    "    \n",
    "    # dir의 png 파일 중 랜덤으로 n개 선택 (비중복)\n",
    "    png_random = sorted(np.random.choice(dir_png, num_img, replace=False))\n",
    "    \n",
    "    my_angle = i\n",
    "\n",
    "    # 각도별 폴더 생성\n",
    "    os.makedirs(dir_after + str(my_angle)) \n",
    "    \n",
    "    for idx in png_random:\n",
    "\n",
    "        # 랜덤 이미지 파일을 복사\n",
    "        xml_random = idx.split('\\\\')[0]+'/'+idx.split('\\\\')[-1].split('.')[0]+'.png'\n",
    "        shutil.copy(xml_random, dir_after + str(my_angle) + '/')\n",
    "        \n",
    "        # 랜덤 이미지와 같은 xml 파일을 복사\n",
    "        xml_random = idx.split('\\\\')[0]+'/'+idx.split('\\\\')[-1].split('.')[0]+'.xml'\n",
    "        shutil.copy(xml_random, dir_after + str(my_angle) + '/')\n"
   ]
  },
  {
   "cell_type": "markdown",
   "metadata": {},
   "source": [
    "---"
   ]
  },
  {
   "cell_type": "code",
   "execution_count": 9,
   "metadata": {},
   "outputs": [],
   "source": [
    "import xml.etree.ElementTree as ET\n",
    "\n",
    "def read_anntation(xml_file: str):\n",
    "    tree = ET.parse(xml_file)\n",
    "    root = tree.getroot()\n",
    "\n",
    "    bounding_box_list = []\n",
    "\n",
    "    file_name = root.find('filename').text\n",
    "    for obj in root.iter('object'):\n",
    "\n",
    "        object_label = obj.find(\"name\").text\n",
    "        for box in obj.findall(\"bndbox\"):\n",
    "            x_min = int(box.find(\"xmin\").text)\n",
    "            y_min = int(box.find(\"ymin\").text)\n",
    "            x_max = int(box.find(\"xmax\").text)\n",
    "            y_max = int(box.find(\"ymax\").text)\n",
    "\n",
    "        bounding_box = [object_label, x_min, y_min, x_max, y_max]\n",
    "        bounding_box_list.append(bounding_box)\n",
    "\n",
    "    return bounding_box_list, file_name"
   ]
  },
  {
   "cell_type": "code",
   "execution_count": 10,
   "metadata": {},
   "outputs": [],
   "source": [
    "from os import listdir\n",
    "import cv2\n",
    "import numpy as np\n",
    "\n",
    "def read_train_dataset(dir):\n",
    "    images = []\n",
    "    annotations = []\n",
    "\n",
    "    for file in listdir(dir):\n",
    "        if 'jpg' in file.lower() or 'png' in file.lower():\n",
    "            images.append(cv2.imread(dir + file, 1))\n",
    "            annotation_file = file.replace(file.split('.')[-1], 'xml')\n",
    "            bounding_box_list, file_name = read_anntation(dir + annotation_file)\n",
    "            annotations.append((bounding_box_list, annotation_file, file_name))\n",
    "\n",
    "    # images = np.array(images) # 이미 array 가 되어 있음\n",
    "\n",
    "    return images, annotations"
   ]
  },
  {
   "cell_type": "code",
   "execution_count": 20,
   "metadata": {},
   "outputs": [],
   "source": [
    "import imgaug as ia\n",
    "import os\n",
    "from imgaug import augmenters as iaa\n",
    "# from files import *\n",
    "from pascal_voc_writer import Writer\n",
    "\n",
    "ia.seed(1)\n",
    "\n",
    "dir = 'D:/coding/data_set/lomin/train_copy/train_angle/'\n",
    "\n",
    "# 모든 폴더 순환\n",
    "for j in os.listdir(dir):\n",
    "    dir_d = dir + j + '/'\n",
    "\n",
    "    images, annotations = read_train_dataset(dir_d)\n",
    "\n",
    "    for idx in range(len(images)):\n",
    "        image = images[idx]\n",
    "        boxes = annotations[idx][0]\n",
    "\n",
    "        ia_bounding_boxes = []\n",
    "        for box in boxes:\n",
    "            ia_bounding_boxes.append(ia.BoundingBox(x1=box[1], y1=box[2], x2=box[3], y2=box[4]))\n",
    "\n",
    "        bbs = ia.BoundingBoxesOnImage(ia_bounding_boxes, shape=image.shape)\n",
    "\n",
    "        seq = iaa.Sequential([\n",
    "            # iaa.Multiply((1.2, 1.5)),\n",
    "            iaa.Affine(\n",
    "                # translate_px={\"x\": 40, \"y\": 60},\n",
    "                # scale=(0.5, 0.7),\n",
    "                rotate = int(j)\n",
    "            )\n",
    "        ])\n",
    "\n",
    "        seq_det = seq.to_deterministic()\n",
    "\n",
    "        image_aug = seq_det.augment_images([image])[0]\n",
    "        bbs_aug = seq_det.augment_bounding_boxes([bbs])[0]\n",
    "\n",
    "        # new_image_file = dir + 'after_' + annotations[idx][2]\n",
    "        new_image_file = dir_d + annotations[idx][2]\n",
    "        cv2.imwrite(new_image_file, image_aug)\n",
    "\n",
    "        h, w = np.shape(image_aug)[0:2]\n",
    "        voc_writer = Writer(new_image_file, w, h)\n",
    "\n",
    "        for i in range(len(bbs_aug.bounding_boxes)):\n",
    "            bb_box = bbs_aug.bounding_boxes[i]\n",
    "            voc_writer.addObject(boxes[i][0], int(bb_box.x1), int(bb_box.y1), int(bb_box.x2), int(bb_box.y2))\n",
    "\n",
    "        # voc_writer.save(dir + 'after_' + annotations[idx][1])\n",
    "        voc_writer.save(dir_d + annotations[idx][1])\n"
   ]
  },
  {
   "cell_type": "code",
   "execution_count": 17,
   "metadata": {},
   "outputs": [
    {
     "name": "stdout",
     "output_type": "stream",
     "text": [
      "0\n",
      "1\n",
      "2\n",
      "3\n",
      "4\n"
     ]
    }
   ],
   "source": [
    "dir = 'D:/coding/data_set/lomin/train_copy/train_angle/'\n",
    "for i in os.listdir(dir):\n",
    "    print(i)"
   ]
  },
  {
   "cell_type": "markdown",
   "metadata": {},
   "source": [
    "----"
   ]
  },
  {
   "cell_type": "code",
   "execution_count": 1,
   "metadata": {},
   "outputs": [],
   "source": [
    "## 이미지 자르기\n",
    "\n",
    "import cv2\n",
    "\n",
    "dir = 'D:/coding/data_set/lomin/'\n",
    "src = cv2.imread(dir + '000000.png', cv2.IMREAD_UNCHANGED)\n",
    "\n",
    "# 이미지를 자른다.\n",
    "dst = src[0:200, 0:500].copy()\n",
    "\n",
    "cv2.imshow('source', src)\n",
    "cv2.imshow('cut image', dst)\n",
    "\n",
    "cv2.waitKey(0)\n",
    "cv2.destroyAllWindows()"
   ]
  },
  {
   "cell_type": "markdown",
   "metadata": {},
   "source": [
    "---"
   ]
  },
  {
   "cell_type": "code",
   "execution_count": null,
   "metadata": {},
   "outputs": [],
   "source": [
    "## 참고 - 하위 폴더만 출력\n",
    "# https://blog.naver.com/monkey5255/221758850260\n",
    "\n",
    "import os\n",
    "\n",
    "DATA_PAHT = 'D:/coding/data_set/lomin/train_copy/'\n",
    "\n",
    "def enum_folder_only(dirname):\n",
    "    for filename in os.listdir(dirname):\n",
    "        file_path = os.path.join(dirname,filename)\n",
    "        if os.path.isdir(file_path):\n",
    "            print(file_path)\n",
    "            enum_folder_only(file_path)\n",
    "\n",
    "enum_folder_only(DATA_PAHT)"
   ]
  },
  {
   "cell_type": "code",
   "execution_count": 36,
   "metadata": {},
   "outputs": [
    {
     "name": "stdout",
     "output_type": "stream",
     "text": [
      "train\n",
      "train_angle\n",
      "val\n",
      "val_angle\n"
     ]
    }
   ],
   "source": [
    "## DATA_PAHT 에 폴더 목록 출력\n",
    "import os, glob\n",
    "\n",
    "DATA_PAHT = 'D:/coding/data_set/lomin/train_copy/'\n",
    "# os.listdir(DATA_PAHT)   # 폴더 내 모두 출력\n",
    "\n",
    "for filename in os.listdir(DATA_PAHT):\n",
    "    file_path = os.path.join(dirname,filename)\n",
    "    if os.path.isdir(file_path) == True:\n",
    "        print(file_path.split('/')[-1])\n"
   ]
  },
  {
   "cell_type": "code",
   "execution_count": 37,
   "id": "01f9dfb7-3df8-4b73-9942-03e74b435199",
   "metadata": {
    "id": "01f9dfb7-3df8-4b73-9942-03e74b435199"
   },
   "outputs": [],
   "source": [
    "# 이미지 폴더 경로\n",
    "TRAIN_IMG_PATH = os.path.join(DATA_PATH, 'train_angle')\n",
    "VAL_IMG_PATH = os.path.join(DATA_PATH, 'val_angle')\n",
    "\n",
    "\n",
    "# # CSV 파일 경로\n",
    "# df_train = pd.read_csv(os.path.join(DATA_PATH, 'train.csv'))\n",
    "# df_test = pd.read_csv(os.path.join(DATA_PATH, 'test.csv'))\n",
    "# df_class = pd.read_csv(os.path.join(DATA_PATH, 'class.csv'))\n",
    "\n",
    "# # IMG_SIZE\n",
    "# img_size = (224, 224)"
   ]
  },
  {
   "cell_type": "code",
   "execution_count": 38,
   "metadata": {},
   "outputs": [
    {
     "data": {
      "text/plain": [
       "'D:/coding/data_set/lomin/train_copy\\\\train_angle'"
      ]
     },
     "execution_count": 38,
     "metadata": {},
     "output_type": "execute_result"
    }
   ],
   "source": [
    "TRAIN_IMG_PATH"
   ]
  },
  {
   "cell_type": "code",
   "execution_count": null,
   "metadata": {},
   "outputs": [],
   "source": [
    "pd.read_xml(os.path.join(DATA_PATH, 'train.csv'))"
   ]
  },
  {
   "cell_type": "code",
   "execution_count": null,
   "id": "5eBVcPdnxiVW",
   "metadata": {
    "colab": {
     "base_uri": "https://localhost:8080/",
     "height": 202
    },
    "id": "5eBVcPdnxiVW",
    "outputId": "faa301a6-b84f-4451-9e45-cfae92878c29"
   },
   "outputs": [
    {
     "data": {
      "text/html": [
       "<div>\n",
       "<style scoped>\n",
       "    .dataframe tbody tr th:only-of-type {\n",
       "        vertical-align: middle;\n",
       "    }\n",
       "\n",
       "    .dataframe tbody tr th {\n",
       "        vertical-align: top;\n",
       "    }\n",
       "\n",
       "    .dataframe thead th {\n",
       "        text-align: right;\n",
       "    }\n",
       "</style>\n",
       "<table border=\"1\" class=\"dataframe\">\n",
       "  <thead>\n",
       "    <tr style=\"text-align: right;\">\n",
       "      <th></th>\n",
       "      <th>img_file</th>\n",
       "      <th>bbox_x1</th>\n",
       "      <th>bbox_y1</th>\n",
       "      <th>bbox_x2</th>\n",
       "      <th>bbox_y2</th>\n",
       "      <th>class</th>\n",
       "    </tr>\n",
       "  </thead>\n",
       "  <tbody>\n",
       "    <tr>\n",
       "      <th>0</th>\n",
       "      <td>00001.jpg</td>\n",
       "      <td>39</td>\n",
       "      <td>116</td>\n",
       "      <td>569</td>\n",
       "      <td>375</td>\n",
       "      <td>14</td>\n",
       "    </tr>\n",
       "    <tr>\n",
       "      <th>1</th>\n",
       "      <td>00002.jpg</td>\n",
       "      <td>36</td>\n",
       "      <td>116</td>\n",
       "      <td>868</td>\n",
       "      <td>587</td>\n",
       "      <td>3</td>\n",
       "    </tr>\n",
       "    <tr>\n",
       "      <th>2</th>\n",
       "      <td>00003.jpg</td>\n",
       "      <td>85</td>\n",
       "      <td>109</td>\n",
       "      <td>601</td>\n",
       "      <td>381</td>\n",
       "      <td>91</td>\n",
       "    </tr>\n",
       "    <tr>\n",
       "      <th>3</th>\n",
       "      <td>00004.jpg</td>\n",
       "      <td>621</td>\n",
       "      <td>393</td>\n",
       "      <td>1484</td>\n",
       "      <td>1096</td>\n",
       "      <td>134</td>\n",
       "    </tr>\n",
       "    <tr>\n",
       "      <th>4</th>\n",
       "      <td>00005.jpg</td>\n",
       "      <td>14</td>\n",
       "      <td>36</td>\n",
       "      <td>133</td>\n",
       "      <td>99</td>\n",
       "      <td>106</td>\n",
       "    </tr>\n",
       "  </tbody>\n",
       "</table>\n",
       "</div>"
      ],
      "text/plain": [
       "    img_file  bbox_x1  bbox_y1  bbox_x2  bbox_y2  class\n",
       "0  00001.jpg       39      116      569      375     14\n",
       "1  00002.jpg       36      116      868      587      3\n",
       "2  00003.jpg       85      109      601      381     91\n",
       "3  00004.jpg      621      393     1484     1096    134\n",
       "4  00005.jpg       14       36      133       99    106"
      ]
     },
     "metadata": {},
     "output_type": "display_data"
    }
   ],
   "source": [
    "df_train.head()"
   ]
  },
  {
   "cell_type": "code",
   "execution_count": null,
   "id": "QPaaBRGExiTG",
   "metadata": {
    "colab": {
     "base_uri": "https://localhost:8080/",
     "height": 202
    },
    "id": "QPaaBRGExiTG",
    "outputId": "332934dd-f4de-4c55-ce5f-04a0dfeae666"
   },
   "outputs": [
    {
     "data": {
      "text/html": [
       "<div>\n",
       "<style scoped>\n",
       "    .dataframe tbody tr th:only-of-type {\n",
       "        vertical-align: middle;\n",
       "    }\n",
       "\n",
       "    .dataframe tbody tr th {\n",
       "        vertical-align: top;\n",
       "    }\n",
       "\n",
       "    .dataframe thead th {\n",
       "        text-align: right;\n",
       "    }\n",
       "</style>\n",
       "<table border=\"1\" class=\"dataframe\">\n",
       "  <thead>\n",
       "    <tr style=\"text-align: right;\">\n",
       "      <th></th>\n",
       "      <th>img_file</th>\n",
       "      <th>bbox_x1</th>\n",
       "      <th>bbox_y1</th>\n",
       "      <th>bbox_x2</th>\n",
       "      <th>bbox_y2</th>\n",
       "    </tr>\n",
       "  </thead>\n",
       "  <tbody>\n",
       "    <tr>\n",
       "      <th>0</th>\n",
       "      <td>00001.jpg</td>\n",
       "      <td>30</td>\n",
       "      <td>52</td>\n",
       "      <td>246</td>\n",
       "      <td>147</td>\n",
       "    </tr>\n",
       "    <tr>\n",
       "      <th>1</th>\n",
       "      <td>00002.jpg</td>\n",
       "      <td>100</td>\n",
       "      <td>19</td>\n",
       "      <td>576</td>\n",
       "      <td>203</td>\n",
       "    </tr>\n",
       "    <tr>\n",
       "      <th>2</th>\n",
       "      <td>00003.jpg</td>\n",
       "      <td>51</td>\n",
       "      <td>105</td>\n",
       "      <td>968</td>\n",
       "      <td>659</td>\n",
       "    </tr>\n",
       "    <tr>\n",
       "      <th>3</th>\n",
       "      <td>00004.jpg</td>\n",
       "      <td>67</td>\n",
       "      <td>84</td>\n",
       "      <td>581</td>\n",
       "      <td>407</td>\n",
       "    </tr>\n",
       "    <tr>\n",
       "      <th>4</th>\n",
       "      <td>00005.jpg</td>\n",
       "      <td>140</td>\n",
       "      <td>151</td>\n",
       "      <td>593</td>\n",
       "      <td>339</td>\n",
       "    </tr>\n",
       "  </tbody>\n",
       "</table>\n",
       "</div>"
      ],
      "text/plain": [
       "    img_file  bbox_x1  bbox_y1  bbox_x2  bbox_y2\n",
       "0  00001.jpg       30       52      246      147\n",
       "1  00002.jpg      100       19      576      203\n",
       "2  00003.jpg       51      105      968      659\n",
       "3  00004.jpg       67       84      581      407\n",
       "4  00005.jpg      140      151      593      339"
      ]
     },
     "metadata": {},
     "output_type": "display_data"
    }
   ],
   "source": [
    "df_test.head()"
   ]
  },
  {
   "cell_type": "code",
   "execution_count": null,
   "id": "JStht0Ci0di8",
   "metadata": {
    "colab": {
     "base_uri": "https://localhost:8080/",
     "height": 202
    },
    "id": "JStht0Ci0di8",
    "outputId": "2dc59c2a-7ab3-48ea-ad77-5840d8621cc7"
   },
   "outputs": [
    {
     "data": {
      "text/html": [
       "<div>\n",
       "<style scoped>\n",
       "    .dataframe tbody tr th:only-of-type {\n",
       "        vertical-align: middle;\n",
       "    }\n",
       "\n",
       "    .dataframe tbody tr th {\n",
       "        vertical-align: top;\n",
       "    }\n",
       "\n",
       "    .dataframe thead th {\n",
       "        text-align: right;\n",
       "    }\n",
       "</style>\n",
       "<table border=\"1\" class=\"dataframe\">\n",
       "  <thead>\n",
       "    <tr style=\"text-align: right;\">\n",
       "      <th></th>\n",
       "      <th>id</th>\n",
       "      <th>name</th>\n",
       "    </tr>\n",
       "  </thead>\n",
       "  <tbody>\n",
       "    <tr>\n",
       "      <th>0</th>\n",
       "      <td>1</td>\n",
       "      <td>AM General Hummer SUV 2000</td>\n",
       "    </tr>\n",
       "    <tr>\n",
       "      <th>1</th>\n",
       "      <td>2</td>\n",
       "      <td>Acura RL Sedan 2012</td>\n",
       "    </tr>\n",
       "    <tr>\n",
       "      <th>2</th>\n",
       "      <td>3</td>\n",
       "      <td>Acura TL Sedan 2012</td>\n",
       "    </tr>\n",
       "    <tr>\n",
       "      <th>3</th>\n",
       "      <td>4</td>\n",
       "      <td>Acura TL Type-S 2008</td>\n",
       "    </tr>\n",
       "    <tr>\n",
       "      <th>4</th>\n",
       "      <td>5</td>\n",
       "      <td>Acura TSX Sedan 2012</td>\n",
       "    </tr>\n",
       "  </tbody>\n",
       "</table>\n",
       "</div>"
      ],
      "text/plain": [
       "   id                        name\n",
       "0   1  AM General Hummer SUV 2000\n",
       "1   2         Acura RL Sedan 2012\n",
       "2   3         Acura TL Sedan 2012\n",
       "3   4        Acura TL Type-S 2008\n",
       "4   5        Acura TSX Sedan 2012"
      ]
     },
     "metadata": {},
     "output_type": "display_data"
    }
   ],
   "source": [
    "df_class.head()"
   ]
  },
  {
   "cell_type": "code",
   "execution_count": null,
   "id": "SfMgXCaixiRH",
   "metadata": {
    "colab": {
     "base_uri": "https://localhost:8080/",
     "height": 78
    },
    "id": "SfMgXCaixiRH",
    "outputId": "45d7fe35-96eb-4030-82b2-1561462c5805"
   },
   "outputs": [
    {
     "data": {
      "text/html": [
       "<div>\n",
       "<style scoped>\n",
       "    .dataframe tbody tr th:only-of-type {\n",
       "        vertical-align: middle;\n",
       "    }\n",
       "\n",
       "    .dataframe tbody tr th {\n",
       "        vertical-align: top;\n",
       "    }\n",
       "\n",
       "    .dataframe thead th {\n",
       "        text-align: right;\n",
       "    }\n",
       "</style>\n",
       "<table border=\"1\" class=\"dataframe\">\n",
       "  <thead>\n",
       "    <tr style=\"text-align: right;\">\n",
       "      <th></th>\n",
       "      <th>id</th>\n",
       "      <th>name</th>\n",
       "    </tr>\n",
       "  </thead>\n",
       "  <tbody>\n",
       "    <tr>\n",
       "      <th>31</th>\n",
       "      <td>32</td>\n",
       "      <td>BMW X5 SUV 2007</td>\n",
       "    </tr>\n",
       "  </tbody>\n",
       "</table>\n",
       "</div>"
      ],
      "text/plain": [
       "    id             name\n",
       "31  32  BMW X5 SUV 2007"
      ]
     },
     "metadata": {},
     "output_type": "display_data"
    }
   ],
   "source": [
    "df_class[df_class['id'] == 32]"
   ]
  },
  {
   "cell_type": "markdown",
   "metadata": {},
   "source": [
    "https://kr.mathworks.com/help/deeplearning/ug/train-a-convolutional-neural-network-for-regression.html#TrainAConvolutionalNeuralNetworkForRegressionExample-1\n",
    "\n",
    "\n",
    "\n",
    "https://keraskorea.github.io/posts/2018-10-24-little_data_powerful_model/\n",
    "\n",
    "\n",
    "https://blog.naver.com/PostView.naver?blogId=sogangori&logNo=221394792477&redirect=Dlog&widgetTypeCall=true&directAccess=false\n",
    "\n",
    "\n",
    "\n"
   ]
  },
  {
   "cell_type": "code",
   "execution_count": null,
   "metadata": {},
   "outputs": [],
   "source": []
  },
  {
   "cell_type": "code",
   "execution_count": 7,
   "metadata": {},
   "outputs": [],
   "source": [
    "## Annotation 읽기\n",
    "\n",
    "# https://junyoung-jamong.github.io/machine/learning/2019/01/23/%EB%B0%94%EC%9A%B4%EB%94%A9%EB%B0%95%EC%8A%A4%EB%A5%BC-%ED%8F%AC%ED%95%A8%ED%95%9C-%EC%9D%B4%EB%AF%B8%EC%A7%80-%EC%A6%9D%ED%8F%AD%EC%8B%9C%ED%82%A4%EA%B8%B0-with-imgaug.html\n",
    "\n",
    "\n",
    "dir = 'D:/coding/data_set/lomin/117/'\n",
    "\n",
    "import xml.etree.ElementTree as ET\n",
    "\n",
    "def read_anntation(xml_file: str):\n",
    "    tree = ET.parse(xml_file)\n",
    "    root = tree.getroot()\n",
    "\n",
    "    bounding_box_list = []\n",
    "\n",
    "    file_name = root.find('filename').text\n",
    "    for obj in root.iter('object'):\n",
    "\n",
    "        object_label = obj.find(\"name\").text\n",
    "        for box in obj.findall(\"bndbox\"):\n",
    "            x_min = int(box.find(\"xmin\").text)\n",
    "            y_min = int(box.find(\"ymin\").text)\n",
    "            x_max = int(box.find(\"xmax\").text)\n",
    "            y_max = int(box.find(\"ymax\").text)\n",
    "\n",
    "        bounding_box = [object_label, x_min, y_min, x_max, y_max]\n",
    "        bounding_box_list.append(bounding_box)\n",
    "\n",
    "    return bounding_box_list, file_name"
   ]
  },
  {
   "cell_type": "code",
   "execution_count": 8,
   "metadata": {},
   "outputs": [
    {
     "data": {
      "text/plain": [
       "['000025.png', '000025.xml']"
      ]
     },
     "execution_count": 8,
     "metadata": {},
     "output_type": "execute_result"
    }
   ],
   "source": [
    "os.listdir(dir)   # 폴더 내 모두 출력"
   ]
  },
  {
   "cell_type": "code",
   "execution_count": 19,
   "metadata": {},
   "outputs": [],
   "source": [
    "tree = ET.parse(dir + '000025.xml')\n",
    "root = tree.getroot()\n",
    "bounding_box_list = []\n",
    "file_name = root.find('filename').text\n",
    "\n",
    "for obj in root.iter('object'):\n",
    "    \n",
    "    object_label = obj.find(\"name\").text\n",
    "    for box in obj.findall(\"bndbox\"):\n",
    "        x_min = int(box.find(\"xmin\").text)\n",
    "        y_min = int(box.find(\"ymin\").text)\n",
    "        x_max = int(box.find(\"xmax\").text)\n",
    "        y_max = int(box.find(\"ymax\").text)\n",
    "        \n",
    "    bounding_box = [object_label, x_min, y_min, x_max, y_max]\n",
    "    bounding_box_list.append(bounding_box)"
   ]
  },
  {
   "cell_type": "code",
   "execution_count": 20,
   "metadata": {},
   "outputs": [
    {
     "data": {
      "text/plain": [
       "['doc', 18, 446, 1635, 1892]"
      ]
     },
     "execution_count": 20,
     "metadata": {},
     "output_type": "execute_result"
    }
   ],
   "source": [
    "bounding_box"
   ]
  },
  {
   "cell_type": "code",
   "execution_count": 21,
   "metadata": {},
   "outputs": [
    {
     "data": {
      "text/plain": [
       "([['doc', 18, 446, 1635, 1892]], '000025.png')"
      ]
     },
     "execution_count": 21,
     "metadata": {},
     "output_type": "execute_result"
    }
   ],
   "source": [
    "bounding_box_list, file_name"
   ]
  },
  {
   "cell_type": "code",
   "execution_count": null,
   "metadata": {},
   "outputs": [],
   "source": []
  },
  {
   "cell_type": "code",
   "execution_count": 18,
   "metadata": {},
   "outputs": [
    {
     "name": "stdout",
     "output_type": "stream",
     "text": [
      "Wall time: 69 ms\n"
     ]
    }
   ],
   "source": [
    "%%time\n",
    "####### 폴더 추가해서 복사하기 ####################\n",
    "\n",
    "## 테두리가 만들어진 이미지 폴더들을 순화하며 폴더 명에 따라 회전 시키기\n",
    "\n",
    "## 순환이 문자로(j) 인식되기 때문에 0, 1, 10, 100, 101, 102, 103... 109, 11, 110.. 순으로 작업 수행\n",
    "\n",
    "import imgaug as ia\n",
    "import glob\n",
    "import os\n",
    "from imgaug import augmenters as iaa\n",
    "# from files import *\n",
    "from pascal_voc_writer import Writer\n",
    "\n",
    "import xml.etree.ElementTree as ET\n",
    "\n",
    "ia.seed(1)\n",
    "\n",
    "# dir = 'D:/coding/data_set/lomin/train_copy/train_angle/' # train 테스트셋\n",
    "# dir = 'D:/coding/data_set/lomin/train_copy/val_angle/' # val 테스트셋\n",
    "\n",
    "dir = 'D:/coding/data_set/lomin/temp/val_angle/' # val 테스트셋\n",
    "\n",
    "# 모든 폴더 순환\n",
    "for j in sorted(os.listdir(dir)):\n",
    "    dir_d = dir + j + '/' \n",
    "\n",
    "    # os.makedirs(dir_d + '/dgr_' + j) \n",
    "    dir_2 = dir_dgr = dir_d + 'dgr_' + j #+ '/'\n",
    "    \n",
    "    # ---\n",
    "    # f = dir_2\n",
    "    # label = f.split('/')[-2].split('_')[1]\n",
    "    \n",
    "    # print(label)\n",
    "    # # print(os.listdir(f))\n",
    "    # dir_png = sorted(glob.glob(dir_2+'/*.xml'))\n",
    "    # print(dir_png)\n",
    "    \n",
    "    # # for i in os.listdir(f):\n",
    "    # ---\n",
    "    \n",
    "\n",
    "    ## 폴더안에 있는 모든 xml 파일 이름 가져오기\n",
    "    file_list = os.listdir(dir_2)\n",
    "    xml_list = []\n",
    "    \n",
    "    for file in file_list:\n",
    "        if '.xml' in file:\n",
    "            xml_list.append(file)\n",
    "\n",
    "    ## 모든 .xml파일에 대해 수정\n",
    "    for xml_file in xml_list:\n",
    "        target_path = dir_2 + \"/\" + xml_file\n",
    "        targetXML = open(target_path, 'rt', encoding='UTF8')\n",
    "\n",
    "        tree = ET.parse(targetXML)\n",
    "\n",
    "        root = tree.getroot()\n",
    "        \n",
    "        ##수정할 부분\n",
    "        target_tag = root.find(\"object/name\")  # boject 하위 name \n",
    "\n",
    "        original = target_tag.text     #원본 String\n",
    "        modified = original.replace(r\"0\",j)  # 0을 j 로 바꿈\n",
    "        # modified = modified.replace(\"/\", \"\\\\\")\n",
    "        target_tag.text = modified  #수정\n",
    "        \n",
    "        tree.write(target_path)\n",
    "        \n",
    "## https://skkim1080.tistory.com/entry/Python%EC%9C%BC%EB%A1%9C-xml-%ED%8C%8C%EC%9D%BC-%EB%82%B4%EC%9A%A9-%EC%88%98%EC%A0%95%ED%95%98%EA%B8%B0\n",
    "\n"
   ]
  },
  {
   "cell_type": "code",
   "execution_count": null,
   "metadata": {},
   "outputs": [],
   "source": []
  },
  {
   "cell_type": "code",
   "execution_count": null,
   "metadata": {},
   "outputs": [],
   "source": []
  },
  {
   "cell_type": "code",
   "execution_count": null,
   "metadata": {},
   "outputs": [],
   "source": []
  },
  {
   "cell_type": "code",
   "execution_count": null,
   "metadata": {},
   "outputs": [],
   "source": []
  }
 ],
 "metadata": {
  "interpreter": {
   "hash": "9ded75b18057b9f19ad89bdaa2a6ec648644e456bf2f94ae6b4e57a51455dcc6"
  },
  "kernelspec": {
   "display_name": "Python 3.7.11 64-bit ('lomin': conda)",
   "name": "python3"
  },
  "language_info": {
   "codemirror_mode": {
    "name": "ipython",
    "version": 3
   },
   "file_extension": ".py",
   "mimetype": "text/x-python",
   "name": "python",
   "nbconvert_exporter": "python",
   "pygments_lexer": "ipython3",
   "version": "3.7.11"
  }
 },
 "nbformat": 4,
 "nbformat_minor": 4
}
