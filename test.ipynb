{
 "cells": [
  {
   "cell_type": "code",
   "execution_count": 2,
   "metadata": {},
   "outputs": [
    {
     "name": "stdout",
     "output_type": "stream",
     "text": [
      "<class 'numpy.ndarray'>\n",
      "(2339, 1654, 3)\n",
      "<class 'tuple'>\n"
     ]
    }
   ],
   "source": [
    "import cv2\n",
    "\n",
    "img = cv2.imread('d:/coding/data/lomin_data/train/000000.png')\n",
    "\n",
    "print(type(img))\n",
    "print(img.shape)\n",
    "print(type(img.shape))"
   ]
  },
  {
   "cell_type": "code",
   "execution_count": 3,
   "metadata": {},
   "outputs": [
    {
     "name": "stdout",
     "output_type": "stream",
     "text": [
      "width:   1654\n",
      "height:  2339\n",
      "channel: 3\n"
     ]
    }
   ],
   "source": [
    "h, w, c = img.shape\n",
    "print('width:  ', w)\n",
    "print('height: ', h)\n",
    "print('channel:', c)"
   ]
  },
  {
   "cell_type": "code",
   "execution_count": 5,
   "metadata": {},
   "outputs": [
    {
     "ename": "AttributeError",
     "evalue": "module 'cv2.cv2' has no attribute 'ROTATE_5_CLOCKWISE'",
     "output_type": "error",
     "traceback": [
      "\u001b[1;31m---------------------------------------------------------------------------\u001b[0m",
      "\u001b[1;31mAttributeError\u001b[0m                            Traceback (most recent call last)",
      "\u001b[1;32m~\\AppData\\Local\\Temp/ipykernel_19516/142593956.py\u001b[0m in \u001b[0;36m<module>\u001b[1;34m\u001b[0m\n\u001b[0;32m      8\u001b[0m \u001b[1;33m\u001b[0m\u001b[0m\n\u001b[0;32m      9\u001b[0m \u001b[1;33m\u001b[0m\u001b[0m\n\u001b[1;32m---> 10\u001b[1;33m \u001b[0mimg5\u001b[0m \u001b[1;33m=\u001b[0m \u001b[0mcv2\u001b[0m\u001b[1;33m.\u001b[0m\u001b[0mrotate\u001b[0m\u001b[1;33m(\u001b[0m\u001b[0mimg\u001b[0m\u001b[1;33m,\u001b[0m \u001b[0mcv2\u001b[0m\u001b[1;33m.\u001b[0m\u001b[0mROTATE_5_CLOCKWISE\u001b[0m\u001b[1;33m)\u001b[0m\u001b[1;33m\u001b[0m\u001b[1;33m\u001b[0m\u001b[0m\n\u001b[0m\u001b[0;32m     11\u001b[0m \u001b[1;33m\u001b[0m\u001b[0m\n\u001b[0;32m     12\u001b[0m \u001b[1;31m# cv2.imshow('original', img)\u001b[0m\u001b[1;33m\u001b[0m\u001b[1;33m\u001b[0m\u001b[1;33m\u001b[0m\u001b[0m\n",
      "\u001b[1;31mAttributeError\u001b[0m: module 'cv2.cv2' has no attribute 'ROTATE_5_CLOCKWISE'"
     ]
    }
   ],
   "source": [
    "# 이미지 회전\n",
    "img = cv2.imread('d:/coding/data/lomin_data/train/000000.png', cv2.IMREAD_COLOR)\n",
    " \n",
    "img90 = cv2.rotate(img, cv2.ROTATE_90_CLOCKWISE) # 시계방향으로 90도 회전\n",
    "img180 = cv2.rotate(img, cv2.ROTATE_180) # 180도 회전\n",
    "img270 = cv2.rotate(img, cv2.ROTATE_90_COUNTERCLOCKWISE) # 반시계방향으로 90도 회전 \n",
    "                                                         # = 시계방향으로 270도 회전\n",
    " \n",
    "\n",
    "img5 = cv2.rotate(img, cv2.ROTATE_5_CLOCKWISE)\n",
    "\n",
    "# cv2.imshow('original', img)\n",
    "# cv2.imshow('rotate90', img90)\n",
    "# cv2.imshow('rotate180', img180)\n",
    "# cv2.imshow('rotate270', img270)\n",
    "cv2.imshow('rotate5', img5)\n",
    " \n",
    "cv2.waitKey(0)\n",
    "cv2.destroyAllWindows()\n"
   ]
  },
  {
   "cell_type": "code",
   "execution_count": 6,
   "metadata": {},
   "outputs": [],
   "source": [
    "''' made by 안산드레아스 이미지 회전하기 필요 패키지 : python-opencv ''' \n",
    "import cv2 \n",
    "''' 이미지를 돌리는 함수 :param \n",
    "img : 이미지 \n",
    "degree : 회전각 ''' \n",
    "\n",
    "def im_rotate(img, degree): \n",
    "    h, w = img.shape[:-1]\n",
    "    crossLine = int(((w * h + h * w) ** 0.5)) \n",
    "    centerRotatePT = int(w / 2), int(h / 2)     \n",
    "    new_h, new_w = h, w \n",
    "    rotatefigure = cv2.getRotationMatrix2D(centerRotatePT, degree, 1) \n",
    "    result = cv2.warpAffine(img, rotatefigure, (new_w, new_h)) \n",
    "    return result \n",
    "\n",
    "# 현재경로의 이미지 불러오기 \n",
    "sample = cv2.imread('d:/coding/data/lomin_data/train/000000.png') \n",
    "cv2.imshow('org', sample) # 함수 실행하기 \n",
    "\n",
    "# 원본영상의 자를 영역 원점 x,y좌표 지정. 그리고 새로 생성할 이미지 frame크기 지정 \n",
    "result = im_rotate(sample, 10) \n",
    "cv2.imshow('img', result) \n",
    "cv2.waitKey(0) \n",
    "cv2.destroyAllWindows()\n",
    "\n"
   ]
  },
  {
   "cell_type": "code",
   "execution_count": 13,
   "metadata": {},
   "outputs": [],
   "source": [
    "# 테두리 여백 추가하기\n",
    "# https://codesample-factory.tistory.com/797\n",
    "\n",
    "import numpy as np\n",
    "import cv2\n",
    "\n",
    "im = cv2.imread('d:/coding/data/lomin_data/train/000000.png')\n",
    "row, col = im.shape[:2]\n",
    "bottom = im[row-2:row, 0:col]\n",
    "mean = cv2.mean(bottom)[0]\n",
    "\n",
    "bordersize = 100\n",
    "border = cv2.copyMakeBorder(\n",
    "    im,\n",
    "    top=bordersize,\n",
    "    bottom=bordersize,\n",
    "    left=bordersize,\n",
    "    right=bordersize,\n",
    "    borderType=cv2.BORDER_CONSTANT,\n",
    "    value=[mean, mean, mean]\n",
    ")\n",
    "\n",
    "cv2.imshow('image', im)\n",
    "cv2.imshow('bottom', bottom)\n",
    "cv2.imshow('border', border)\n",
    "cv2.waitKey(0)\n",
    "cv2.destroyAllWindows()"
   ]
  },
  {
   "cell_type": "markdown",
   "metadata": {},
   "source": [
    "추가 여분\n",
    "\n",
    "(중심점 기준 생각)\n",
    "\n",
    "위, 아래 = 대각선 길이/2 - 높이/2\n",
    "\n",
    "양 옆 = 대각선 길이/2 - 넓이/2 \n",
    "\n",
    "total 정사각형이 될 것. 그 안에 직사각형 문서가 바운딩 됨 (중심점 기준)\n",
    "\n",
    "이미지의 위 와 가까운 곳 찾기 (원본, 90도, 180도, 270도 회전) 4포인트 확인\n",
    "이미지가 회전은 -45 ~ 45 도 만큼 학습."
   ]
  },
  {
   "cell_type": "code",
   "execution_count": null,
   "metadata": {},
   "outputs": [],
   "source": []
  }
 ],
 "metadata": {
  "interpreter": {
   "hash": "9ded75b18057b9f19ad89bdaa2a6ec648644e456bf2f94ae6b4e57a51455dcc6"
  },
  "kernelspec": {
   "display_name": "Python 3.7.11 64-bit ('lomin': conda)",
   "name": "python3"
  },
  "language_info": {
   "codemirror_mode": {
    "name": "ipython",
    "version": 3
   },
   "file_extension": ".py",
   "mimetype": "text/x-python",
   "name": "python",
   "nbconvert_exporter": "python",
   "pygments_lexer": "ipython3",
   "version": "3.7.11"
  },
  "orig_nbformat": 4
 },
 "nbformat": 4,
 "nbformat_minor": 2
}
