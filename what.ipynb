{
 "cells": [
  {
   "cell_type": "code",
   "execution_count": null,
   "metadata": {},
   "outputs": [],
   "source": [
    "# from def_all\n",
    "\n",
    "%%time\n",
    "####### 폴더 추가해서 복사하기 ####################\n",
    "\n",
    "## 테두리가 만들어진 이미지 폴더들을 순화하며 폴더 명에 따라 회전 시키기\n",
    "\n",
    "## 순환이 문자로(j) 인식되기 때문에 0, 1, 10, 100, 101, 102, 103... 109, 11, 110.. 순으로 작업 수행\n",
    "\n",
    "import imgaug as ia\n",
    "import os\n",
    "from imgaug import augmenters as iaa\n",
    "# from files import *\n",
    "from pascal_voc_writer import Writer\n",
    "\n",
    "ia.seed(1)\n",
    "\n",
    "# dir = 'D:/coding/data_set/lomin/train_copy/train_angle/' # train 테스트셋\n",
    "# dir = 'D:/coding/data_set/lomin/train_copy/val_angle/' # val 테스트셋\n",
    "\n",
    "dir = 'D:/coding/data_set/lomin/temp/val_angle/' # val 테스트셋\n",
    "\n",
    "# 모든 폴더 순환\n",
    "for j in sorted(os.listdir(dir)):\n",
    "    dir_d = dir + j + '/' \n",
    "\n",
    "    # os.makedirs(dir_d + '/dgr_' + j) \n",
    "    dir_2 = dir_dgr = dir_d + '/dgr_' + j + '/'\n",
    "    \n",
    "\n",
    "    images, annotations = read_train_dataset(dir_d)\n",
    "\n",
    "    for idx in range(len(images)):\n",
    "        image = images[idx]\n",
    "        boxes = annotations[idx][0]\n",
    "\n",
    "        ia_bounding_boxes = []\n",
    "        for box in boxes:\n",
    "            ia_bounding_boxes.append(ia.BoundingBox(x1=box[1], y1=box[2], x2=box[3], y2=box[4]))\n",
    "\n",
    "        bbs = ia.BoundingBoxesOnImage(ia_bounding_boxes, shape=image.shape)\n",
    "\n",
    "        seq = iaa.Sequential([\n",
    "            # iaa.Multiply((1.2, 1.5)),\n",
    "            iaa.Affine(\n",
    "                # translate_px={\"x\": 40, \"y\": 60},\n",
    "                # scale=(0.5, 0.7),\n",
    "                rotate = int(j)\n",
    "            )\n",
    "        ])\n",
    "\n",
    "        seq_det = seq.to_deterministic()\n",
    "\n",
    "        image_aug = seq_det.augment_images([image])[0]\n",
    "        bbs_aug = seq_det.augment_bounding_boxes([bbs])[0]\n",
    "\n",
    "        # new_image_file = dir + 'after_' + annotations[idx][2]\n",
    "        # new_image_file = dir_d + annotations[idx][2]\n",
    "        new_image_file = dir_dgr + annotations[idx][2]\n",
    "        cv2.imwrite(new_image_file, image_aug)\n",
    "\n",
    "        h, w = np.shape(image_aug)[0:2]\n",
    "        voc_writer = Writer(new_image_file, w, h)\n",
    "\n",
    "        for i in range(len(bbs_aug.bounding_boxes)):\n",
    "            bb_box = bbs_aug.bounding_boxes[i]\n",
    "            # name (label) , x1, x2, y1, y2 값 바꿈\n",
    "            voc_writer.addObject(j), int(bb_box.x1), int(bb_box.y1), int(bb_box.x2), int(bb_box.y2))\n",
    "\n",
    "        # voc_writer.save(dir + 'after_' + annotations[idx][1])\n",
    "        # voc_writer.save(dir_d + annotations[idx][1])\n",
    "        voc_writer.save(dir_dgr + annotations[idx][1])\n"
   ]
  },
  {
   "cell_type": "code",
   "execution_count": null,
   "metadata": {},
   "outputs": [],
   "source": []
  },
  {
   "cell_type": "code",
   "execution_count": null,
   "metadata": {},
   "outputs": [],
   "source": []
  },
  {
   "cell_type": "code",
   "execution_count": null,
   "metadata": {},
   "outputs": [],
   "source": []
  },
  {
   "cell_type": "code",
   "execution_count": null,
   "metadata": {},
   "outputs": [],
   "source": []
  },
  {
   "cell_type": "code",
   "execution_count": null,
   "metadata": {},
   "outputs": [],
   "source": []
  },
  {
   "cell_type": "code",
   "execution_count": null,
   "metadata": {},
   "outputs": [],
   "source": []
  },
  {
   "cell_type": "code",
   "execution_count": null,
   "metadata": {},
   "outputs": [],
   "source": []
  },
  {
   "cell_type": "code",
   "execution_count": null,
   "metadata": {},
   "outputs": [],
   "source": []
  },
  {
   "cell_type": "code",
   "execution_count": null,
   "metadata": {},
   "outputs": [],
   "source": []
  },
  {
   "cell_type": "code",
   "execution_count": null,
   "metadata": {},
   "outputs": [],
   "source": []
  }
 ],
 "metadata": {
  "language_info": {
   "name": "python"
  },
  "orig_nbformat": 4
 },
 "nbformat": 4,
 "nbformat_minor": 2
}
